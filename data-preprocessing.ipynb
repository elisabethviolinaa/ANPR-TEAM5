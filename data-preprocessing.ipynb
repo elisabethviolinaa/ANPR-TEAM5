{
 "cells": [
  {
   "cell_type": "markdown",
   "metadata": {},
   "source": [
    "## ANPR Data Preprocessing-Team 5"
   ]
  },
  {
   "cell_type": "markdown",
   "metadata": {},
   "source": [
    "#### Import All Libraries"
   ]
  },
  {
   "cell_type": "code",
   "execution_count": null,
   "metadata": {},
   "outputs": [],
   "source": [
    "import cv2\n",
    "import numpy as np\n",
    "import os\n",
    "from PIL import Image"
   ]
  },
  {
   "cell_type": "markdown",
   "metadata": {},
   "source": [
    "#### Define all Functions"
   ]
  },
  {
   "cell_type": "code",
   "execution_count": null,
   "metadata": {},
   "outputs": [],
   "source": [
    "def resize_image(image, target_size=(800, 800)):\n",
    "    return cv2.resize(image, target_size)\n",
    "\n",
    "def extract_frames(video_path, output_dir):\n",
    "    vidcap = cv2.VideoCapture(video_path)\n",
    "    success, image = vidcap.read()\n",
    "    count = 0\n",
    "    success = True\n",
    "    while success:\n",
    "        resized_image = resize_image(image)\n",
    "        cv2.imwrite(os.path.join(output_dir, \"frame%03d.jpg\" % count), resized_image)\n",
    "        success, image = vidcap.read()\n",
    "        count += 1\n",
    "\n",
    "def process_input(input_path, output_dir):\n",
    "    if input_path.endswith(('.png', '.jpg', '.jpeg')):\n",
    "        image = cv2.imread(input_path)\n",
    "        resized_image = resize_image(image)\n",
    "        cv2.imwrite(os.path.join(output_dir, \"processed_image.jpg\"), resized_image)\n",
    "    elif input_path.endswith(('.mp4', '.avi')):\n",
    "        extract_frames(input_path, output_dir)\n",
    "    else:\n",
    "        print(\"File format not supported\")"
   ]
  },
  {
   "cell_type": "markdown",
   "metadata": {},
   "source": [
    "#### Execute Code"
   ]
  },
  {
   "cell_type": "code",
   "execution_count": null,
   "metadata": {},
   "outputs": [],
   "source": [
    "process_input(\"/path-for-input\", \"/path-for-output\")"
   ]
  }
 ],
 "metadata": {
  "kernelspec": {
   "display_name": "deeplearning",
   "language": "python",
   "name": "python3"
  },
  "language_info": {
   "codemirror_mode": {
    "name": "ipython",
    "version": 3
   },
   "file_extension": ".py",
   "mimetype": "text/x-python",
   "name": "python",
   "nbconvert_exporter": "python",
   "pygments_lexer": "ipython3",
   "version": "3.10.12"
  }
 },
 "nbformat": 4,
 "nbformat_minor": 2
}
